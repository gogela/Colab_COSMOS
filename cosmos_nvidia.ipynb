{
  "cells": [
    {
      "cell_type": "markdown",
      "metadata": {
        "id": "view-in-github",
        "colab_type": "text"
      },
      "source": [
        "<a href=\"https://colab.research.google.com/github/gogela/Colab_COSMOS/blob/main/cosmos_nvidia.ipynb\" target=\"_parent\"><img src=\"https://colab.research.google.com/assets/colab-badge.svg\" alt=\"Open In Colab\"/></a>"
      ]
    },
    {
      "cell_type": "code",
      "source": [
        "#Colab NTB for NVIDIA cosmos"
      ],
      "metadata": {
        "id": "14EGcEhUNlCP"
      },
      "execution_count": null,
      "outputs": []
    },
    {
      "cell_type": "code",
      "source": [
        "#uninstal default pytorch & cuda\n",
        "!pip uninstall -y torch torchvision torchaudio\n",
        "\n",
        "!apt-get --purge remove cuda nvidia* libnvidia-*\n",
        "!dpkg -l | grep cuda- | awk '{print $2}' | xargs -n1 dpkg --purge\n",
        "!apt-get remove cuda-*\n",
        "!apt autoremove\n",
        "!apt-get update"
      ],
      "metadata": {
        "id": "hwKh1v-NRvVt"
      },
      "execution_count": null,
      "outputs": []
    },
    {
      "cell_type": "code",
      "source": [
        "#cuda 12.6\n",
        "!wget https://developer.download.nvidia.com/compute/cuda/repos/ubuntu2204/x86_64/cuda-keyring_1.1-1_all.deb\n",
        "!sudo dpkg -i cuda-keyring_1.1-1_all.deb\n",
        "!sudo apt-get update\n",
        "!sudo apt-get -y install cuda-toolkit-12-6"
      ],
      "metadata": {
        "id": "Jv_otRcWgYda"
      },
      "execution_count": null,
      "outputs": []
    },
    {
      "cell_type": "code",
      "source": [
        "!pip uninstall fastai -y\n",
        "!pip install git+https://github.com/NVlabs/Pytorch_Retinaface.git@b843f45\n"
      ],
      "metadata": {
        "id": "eZmALidudEvE"
      },
      "execution_count": null,
      "outputs": []
    },
    {
      "cell_type": "code",
      "source": [
        "#new pytorch (night build)\n",
        "\n",
        "#!pip install --pre torch torchvision torchaudio --index-url https://download.pytorch.org/whl/nightly/cu126\n",
        "!pip install torch==2.7.0.dev20250114+cu126 --index-url https://download.pytorch.org/whl/nightly/cu126\n",
        "!pip install torchvision==0.22.0.dev20250114+cu126 --index-url https://download.pytorch.org/whl/nightly/cu126\n",
        "\n"
      ],
      "metadata": {
        "id": "iw2eTnzpgWwl"
      },
      "execution_count": null,
      "outputs": []
    },
    {
      "cell_type": "code",
      "execution_count": null,
      "metadata": {
        "id": "0afCXys7jvCp"
      },
      "outputs": [],
      "source": [
        "#!nvcc --version\n",
        "\n",
        "\n",
        "\n",
        "\n",
        "import torch\n",
        "print(torch.backends.cudnn.version()) #should be at least 90501\n"
      ]
    },
    {
      "cell_type": "code",
      "source": [
        "#hf token\n",
        "import os\n",
        "from huggingface_hub import login\n",
        "from google.colab import userdata\n",
        "os.environ[\"HF_TOKEN\"] = userdata.get(\"HF_TOKEN\")\n",
        "login(os.environ[\"HF_TOKEN\"])\n",
        "\n"
      ],
      "metadata": {
        "id": "2BxEOEr-qY82"
      },
      "execution_count": null,
      "outputs": []
    },
    {
      "cell_type": "code",
      "source": [
        "# git\n",
        "%cd /content/\n",
        "# 1. Clone the repository and move to the directory (execute only once)\n",
        "!(if [ ! -d \"Cosmos\" ]; then \\\n",
        "    git clone https://github.com/NVIDIA/Cosmos.git; \\\n",
        "  fi)\n",
        "%cd Cosmos\n"
      ],
      "metadata": {
        "id": "Oj8k76iAo1Ep"
      },
      "execution_count": null,
      "outputs": []
    },
    {
      "cell_type": "code",
      "source": [
        "#!patch /content/Cosmos/cosmos1/models/diffusion/module/pretrained_vae.py\n",
        "!cp /content/pretrained_vae.py /content/Cosmos/cosmos1/models/diffusion/module/pretrained_vae.py"
      ],
      "metadata": {
        "id": "zd6LhJF65Zr2"
      },
      "execution_count": null,
      "outputs": []
    },
    {
      "cell_type": "code",
      "source": [
        "# upload sample video\n",
        "!cp /content/sample_water.mp4 /content/sample.mp4"
      ],
      "metadata": {
        "id": "SgNZ_Ucp53Nz"
      },
      "execution_count": null,
      "outputs": []
    },
    {
      "cell_type": "code",
      "execution_count": null,
      "metadata": {
        "id": "2_NEs_nFjzTi"
      },
      "outputs": [],
      "source": [
        "%cd /content/Cosmos\n",
        "\n",
        "# Not sure this is even needed\n",
        "!apt-get update && apt-get install -y ffmpeg\n",
        "!pip install --no-cache-dir -r requirements.txt\n",
        "!pip install pynvml\n",
        "#!pip install transformer_engine[pytorch]\n",
        "\n",
        "\n"
      ]
    },
    {
      "cell_type": "code",
      "source": [
        "!pip uninstall transformer_engine\n",
        "!pip cache purge\n",
        "!pip install transformer_engine[pytorch]"
      ],
      "metadata": {
        "id": "RHWbuupmreqE"
      },
      "execution_count": null,
      "outputs": []
    },
    {
      "cell_type": "markdown",
      "source": [
        "Diffusion"
      ],
      "metadata": {
        "id": "6WSOo-Rarh7s"
      }
    },
    {
      "cell_type": "code",
      "source": [
        "#download models - diffusion\n",
        "#redirect uoutput to /dev/null - otherwise the lenghty output kills browser\n",
        "!PYTHONPATH=$(pwd) python cosmos1/scripts/download_diffusion.py --model_sizes 7B --model_types Video2World >/tmp/download.log 2>&1\n",
        "#!PYTHONPATH=$(pwd) python cosmos1/scripts/download_diffusion.py --model_sizes 7B 14B --model_types Text2World Video2World >/tmp/download.log 2>&1\n"
      ],
      "metadata": {
        "id": "AlDlC-eQpcMZ"
      },
      "execution_count": null,
      "outputs": []
    },
    {
      "cell_type": "code",
      "source": [
        "#Inference - diffusion\n",
        "!(export PYTHONPATH=$(pwd) && \\\n",
        "  python cosmos1/models/diffusion/inference/video2world.py \\\n",
        "    --checkpoint_dir checkpoints \\\n",
        "    --diffusion_transformer_dir Cosmos-1.0-Diffusion-7B-Video2World \\\n",
        "    --prompt 'Pouring a glass of water in a kitchen' \\\n",
        "    --input_image_or_video_path /content/sample.mp4 \\\n",
        "    --num_input_frames 1 \\\n",
        "    --disable_prompt_upsampler \\\n",
        "    --video_save_folder video_output \\\n",
        "    --video_save_name Cosmos-1.0-Diffusion-7B-Video2World \\\n",
        "    --offload_diffusion_transformer \\\n",
        "    --offload_tokenizer \\\n",
        "    --offload_text_encoder_model \\\n",
        "    --offload_prompt_upsampler \\\n",
        "    --offload_guardrail_models)"
      ],
      "metadata": {
        "id": "zi87a6rI3wq7"
      },
      "execution_count": null,
      "outputs": []
    },
    {
      "cell_type": "markdown",
      "source": [
        "Autoregression"
      ],
      "metadata": {
        "id": "QfgM7l2frnZM"
      }
    },
    {
      "cell_type": "code",
      "source": [
        "#Inference - autoregressive\n",
        "%cd /content/Cosmos\n",
        "!PYTHONPATH=$(pwd) python cosmos1/scripts/download_autoregressive.py --model_sizes 4B 5B >/tmp/download.log 2>&1"
      ],
      "metadata": {
        "colab": {
          "base_uri": "https://localhost:8080/"
        },
        "id": "rNmJ7ivNq2RA",
        "outputId": "8c9b9354-1813-483f-8d95-3d5c0c7d75b5"
      },
      "execution_count": null,
      "outputs": [
        {
          "metadata": {
            "tags": null
          },
          "name": "stdout",
          "output_type": "stream",
          "text": [
            "/content/Cosmos\n"
          ]
        }
      ]
    },
    {
      "cell_type": "code",
      "source": [
        "%cd /content/Cosmos\n",
        "!CUDA_VISIBLE_DEVICES=0 PYTHONPATH=$(pwd) python cosmos1/models/autoregressive/inference/video2world.py \\\n",
        "    --input_type=text_and_video \\\n",
        "    --input_image_or_video_path=/content/sample.mp4  \\\n",
        "    --prompt=\"A video showing a kitchen sink and a tap. A hand holds a cup and water from the tap fills the cup\" \\\n",
        "    --video_save_name=Cosmos-1.0-Autoregressive-5B-Video2World \\\n",
        "    --ar_model_dir=Cosmos-1.0-Autoregressive-5B-Video2World \\\n",
        "    --top_p=0.7 \\\n",
        "    --temperature=1.0 \\\n",
        "    --offload_guardrail_models \\\n",
        "    --offload_diffusion_decoder \\\n",
        "    --offload_ar_model \\\n",
        "    --offload_tokenizer \\\n",
        "    --offload_text_encoder_model"
      ],
      "metadata": {
        "id": "f00LbwGXrRzp"
      },
      "execution_count": null,
      "outputs": []
    },
    {
      "cell_type": "code",
      "source": [],
      "metadata": {
        "id": "9d70McjkrCrz"
      },
      "execution_count": null,
      "outputs": []
    }
  ],
  "metadata": {
    "accelerator": "GPU",
    "colab": {
      "gpuType": "A100",
      "machine_shape": "hm",
      "provenance": [],
      "authorship_tag": "ABX9TyMf9ZOYeBRiwrnRd+3S3O/F",
      "include_colab_link": true
    },
    "kernelspec": {
      "display_name": "Python 3",
      "name": "python3"
    },
    "language_info": {
      "name": "python"
    }
  },
  "nbformat": 4,
  "nbformat_minor": 0
}